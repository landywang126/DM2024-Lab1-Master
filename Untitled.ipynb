{
 "cells": [
  {
   "cell_type": "code",
   "execution_count": null,
   "id": "47271bac-71b2-4c03-978e-469e49e5bfe1",
   "metadata": {},
   "outputs": [],
   "source": []
  }
 ],
 "metadata": {
  "kernelspec": {
   "display_name": "",
   "name": ""
  },
  "language_info": {
   "name": ""
  }
 },
 "nbformat": 4,
 "nbformat_minor": 5
}
